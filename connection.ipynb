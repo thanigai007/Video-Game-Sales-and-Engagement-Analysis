{
 "cells": [
  {
   "cell_type": "code",
   "execution_count": 7,
   "id": "5ad3d3ed-45c8-4540-a5bb-2e4617d9da61",
   "metadata": {},
   "outputs": [],
   "source": [
    "import mysql.connector\n",
    "import pandas as pd"
   ]
  },
  {
   "cell_type": "code",
   "execution_count": 9,
   "id": "74da5fb9-6ee9-49f8-96fa-ff8777cdafa6",
   "metadata": {},
   "outputs": [],
   "source": [
    "# Load cleaned data\n",
    "games_df = pd.read_csv(\"D:/Project/Guvi_Project/Video Game Sales and Engagement Analysis/games1.csv\")\n",
    "vgsales_df = pd.read_csv(\"D:/Project/Guvi_Project/Video Game Sales and Engagement Analysis/vgsales1.csv\")\n"
   ]
  },
  {
   "cell_type": "code",
   "execution_count": 11,
   "id": "39d8ad38-9ba4-4ead-9d05-6f72b4c97bbe",
   "metadata": {},
   "outputs": [],
   "source": [
    "# Connect to MySQL\n",
    "conn = mysql.connector.connect(\n",
    "    host=\"127.0.0.1\",\n",
    "    user=\"root\",\n",
    "    password=\"thanigai@1234\",\n",
    "    database=\"gamesales\"\n",
    ")\n",
    "cursor = conn.cursor()"
   ]
  },
  {
   "cell_type": "code",
   "execution_count": 13,
   "id": "67129ec9-527a-4b9b-9b67-6709a6afabce",
   "metadata": {},
   "outputs": [],
   "source": [
    "# Insert rows one by one\n",
    "for _, row in games_df.iterrows():\n",
    "    cursor.execute(\"\"\"\n",
    "        INSERT INTO games (`S.No`, Title, Release_Date, Team, Rating, Times_Listed, Number_of_Reviews, Genres, Summary, Reviews, Plays, Playing, Backlogs, Wishlist)\n",
    "        VALUES (%s, %s, %s, %s, %s, %s, %s, %s ,%s, %s, %s, %s, %s, %s)\n",
    "    \"\"\", tuple(row))"
   ]
  },
  {
   "cell_type": "code",
   "execution_count": 15,
   "id": "25fb53cb-461d-4006-a08d-98018bcb4b24",
   "metadata": {},
   "outputs": [],
   "source": [
    "for _, row in vgsales_df.iterrows():\n",
    "    cursor.execute(\"\"\"\n",
    "        INSERT INTO vgsales (`Rank`, Name, Platform, Year, Genre, Publisher,\n",
    "                             NA_Sales, EU_Sales, JP_Sales, Other_Sales, Global_Sales)\n",
    "        VALUES (%s, %s, %s, %s, %s, %s, %s, %s, %s, %s, %s)\n",
    "    \"\"\", tuple(row))"
   ]
  },
  {
   "cell_type": "code",
   "execution_count": 17,
   "id": "4b160a22-c0c4-41c1-88bd-3a59be74e1e3",
   "metadata": {},
   "outputs": [],
   "source": [
    "# Commit changes\n",
    "conn.commit()\n",
    "conn.close()\n"
   ]
  },
  {
   "cell_type": "code",
   "execution_count": null,
   "id": "bbdf81da-7120-40a2-8af7-fffb3690b194",
   "metadata": {},
   "outputs": [],
   "source": []
  },
  {
   "cell_type": "code",
   "execution_count": null,
   "id": "5df52353-732d-4177-b49a-c12f68aa6ad3",
   "metadata": {},
   "outputs": [],
   "source": []
  },
  {
   "cell_type": "code",
   "execution_count": null,
   "id": "bf72550e-a748-4e56-a36d-cf992ae481cc",
   "metadata": {},
   "outputs": [],
   "source": []
  },
  {
   "cell_type": "code",
   "execution_count": null,
   "id": "3db297cf-cbfb-4293-b880-4300d48fb167",
   "metadata": {},
   "outputs": [],
   "source": []
  },
  {
   "cell_type": "code",
   "execution_count": null,
   "id": "ea00eecd-0b78-4573-8ac8-6c39b15722ec",
   "metadata": {},
   "outputs": [],
   "source": []
  }
 ],
 "metadata": {
  "kernelspec": {
   "display_name": "Python 3 (ipykernel)",
   "language": "python",
   "name": "python3"
  },
  "language_info": {
   "codemirror_mode": {
    "name": "ipython",
    "version": 3
   },
   "file_extension": ".py",
   "mimetype": "text/x-python",
   "name": "python",
   "nbconvert_exporter": "python",
   "pygments_lexer": "ipython3",
   "version": "3.12.7"
  }
 },
 "nbformat": 4,
 "nbformat_minor": 5
}
