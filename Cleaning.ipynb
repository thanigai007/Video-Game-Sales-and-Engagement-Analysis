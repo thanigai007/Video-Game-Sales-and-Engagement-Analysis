{
 "cells": [
  {
   "cell_type": "code",
   "execution_count": 29,
   "id": "337680cc-3503-4929-994a-21b535f195cd",
   "metadata": {},
   "outputs": [],
   "source": [
    "import pandas as pd\n",
    "import numpy as np"
   ]
  },
  {
   "cell_type": "code",
   "execution_count": 31,
   "id": "ce32a8c7-891c-4d03-87b4-19730b99236d",
   "metadata": {},
   "outputs": [],
   "source": [
    "games_df = pd.read_csv(\"D:/Project/Guvi_Project/Video Game Sales and Engagement Analysis/games1.csv\")"
   ]
  },
  {
   "cell_type": "code",
   "execution_count": 8,
   "id": "93d8c860-082b-46a5-8a9f-32270c5fd8f5",
   "metadata": {},
   "outputs": [],
   "source": [
    "# Replace the first column with a serial number starting from 1\n",
    "games_df.iloc[:, 0] = range(1, len(games_df) + 1)\n",
    "\n",
    "# Rename the first column to 'S.No'\n",
    "games_df.columns.values[0] = 'S.No'\n"
   ]
  },
  {
   "cell_type": "code",
   "execution_count": 10,
   "id": "016c4f2b-9019-4de6-a87c-a086ffd28642",
   "metadata": {},
   "outputs": [],
   "source": [
    "games_df['Release Date'] = pd.to_datetime(games_df['Release Date'], errors='coerce')"
   ]
  },
  {
   "cell_type": "code",
   "execution_count": 7,
   "id": "d1af015f-8b99-4162-8226-433019a39541",
   "metadata": {},
   "outputs": [],
   "source": [
    "games_df['Release Date'].fillna(pd.Timestamp('2014-01-01'), inplace=True)"
   ]
  },
  {
   "cell_type": "code",
   "execution_count": 12,
   "id": "21930f18-8c5d-492c-a2dd-33bc7a2eb699",
   "metadata": {},
   "outputs": [],
   "source": [
    "# Convert string numbers like \"3.4K\" to actual numeric values\n",
    "def convert_k_to_number(x):\n",
    "    if isinstance(x, str) and 'K' in x:\n",
    "        return float(x.replace('K', '')) * 1000\n",
    "    try:\n",
    "        return float(x)\n",
    "    except:\n",
    "        return np.nan"
   ]
  },
  {
   "cell_type": "code",
   "execution_count": 14,
   "id": "dc67b93b-b399-4ea6-9c70-a12f7e1f2ff2",
   "metadata": {},
   "outputs": [],
   "source": [
    "cols_to_convert = ['Times Listed', 'Number of Reviews', 'Plays', 'Playing', 'Backlogs', 'Wishlist']\n",
    "for col in cols_to_convert:\n",
    "    games_df[col] = games_df[col].apply(convert_k_to_number)"
   ]
  },
  {
   "cell_type": "code",
   "execution_count": 18,
   "id": "c76016eb-c9b9-494c-896d-f834a61ffe4e",
   "metadata": {},
   "outputs": [],
   "source": [
    "# Clean 'Genres' and 'Team' to make them lists (optional)\n",
    "import ast\n",
    "for col in ['Genres', 'Team', 'Reviews']:\n",
    "    games_df[col] = games_df[col].astype(str)  # Make sure it's string\n",
    "    games_df[col] = games_df[col].str.replace(r\"[\\[\\]'\\\"\\\"]\", '', regex=True)  # Remove brackets and single quotes\n",
    "    games_df[col] = games_df[col].str.strip()  # Remove leading/trailing spaces"
   ]
  },
  {
   "cell_type": "code",
   "execution_count": 35,
   "id": "213aa35a-ad5b-4cab-814f-4146c7befdef",
   "metadata": {},
   "outputs": [],
   "source": [
    "# Handle missing values: fill or drop\n",
    "games_df['Genres'] = games_df['Genres'].fillna(\"Unknown\")\n",
    "games_df['Team'] = games_df['Team'].fillna(\"Unknown\")\n",
    "games_df['Summary'] = games_df['Summary'].fillna(\"No summary available\")\n",
    "games_df['Reviews'].fillna(\"No reviews available\")\n",
    "games_df['Rating'] = games_df['Rating'].fillna(games_df['Rating'].mean())\n",
    "games_df['Times Listed'] = games_df['Times Listed'].fillna(games_df['Times Listed'].mean())\n",
    "games_df['Number of Reviews'] = games_df['Number of Reviews'].fillna(games_df['Number of Reviews'].mean())"
   ]
  },
  {
   "cell_type": "code",
   "execution_count": 37,
   "id": "e6bf4e2d-1851-4a79-a80c-a555825e6fb1",
   "metadata": {},
   "outputs": [],
   "source": [
    "games_df.to_csv(\"D:/Project/Guvi_Project/Video Game Sales and Engagement Analysis/games1.csv\", index=False)"
   ]
  },
  {
   "cell_type": "code",
   "execution_count": 50,
   "id": "3b9c200c-48e0-4b81-b6a5-eac8981d10b3",
   "metadata": {},
   "outputs": [],
   "source": [
    "vgsales_df = pd.read_csv(\"D:/Project/Guvi_Project/Video Game Sales and Engagement Analysis/vgsales1.csv\")"
   ]
  },
  {
   "cell_type": "code",
   "execution_count": 52,
   "id": "fc700be9-333e-448d-a08b-b39941e33214",
   "metadata": {},
   "outputs": [],
   "source": [
    "# Fill missing years with the most frequent year\n",
    "most_common_year = vgsales_df['Year'].mode()[0]\n",
    "vgsales_df['Year'] = vgsales_df['Year'].fillna(most_common_year).astype(int)"
   ]
  },
  {
   "cell_type": "code",
   "execution_count": 54,
   "id": "0d2a68f0-a8c1-41dd-9ad7-20ba04835e69",
   "metadata": {},
   "outputs": [],
   "source": [
    "# Fill missing publishers with \"Unknown\"\n",
    "vgsales_df['Publisher'] = vgsales_df['Publisher'].fillna(\"Unknown\")"
   ]
  },
  {
   "cell_type": "code",
   "execution_count": 56,
   "id": "960ceb98-87c3-4af0-abca-6f7f4a3aeabf",
   "metadata": {},
   "outputs": [],
   "source": [
    "# Convert categorical columns\n",
    "categorical_cols = ['Name', 'Platform', 'Genre', 'Publisher']\n",
    "for col in categorical_cols:\n",
    "    vgsales_df[col] = vgsales_df[col].astype('category')"
   ]
  },
  {
   "cell_type": "code",
   "execution_count": 58,
   "id": "c93505ab-5cb6-4e9b-a20b-4acbd654c98d",
   "metadata": {},
   "outputs": [],
   "source": [
    "vgsales_df.to_csv(\"D:/Project/Guvi_Project/Video Game Sales and Engagement Analysis/vgsales1.csv\", index=False)"
   ]
  },
  {
   "cell_type": "code",
   "execution_count": null,
   "id": "98e7ac20-46e9-4d2e-904f-fcd2419588a1",
   "metadata": {},
   "outputs": [],
   "source": []
  },
  {
   "cell_type": "code",
   "execution_count": null,
   "id": "9470aab0-60e1-469a-b631-99e219802d6a",
   "metadata": {},
   "outputs": [],
   "source": []
  }
 ],
 "metadata": {
  "kernelspec": {
   "display_name": "Python 3 (ipykernel)",
   "language": "python",
   "name": "python3"
  },
  "language_info": {
   "codemirror_mode": {
    "name": "ipython",
    "version": 3
   },
   "file_extension": ".py",
   "mimetype": "text/x-python",
   "name": "python",
   "nbconvert_exporter": "python",
   "pygments_lexer": "ipython3",
   "version": "3.12.7"
  }
 },
 "nbformat": 4,
 "nbformat_minor": 5
}
